{
 "cells": [
  {
   "cell_type": "markdown",
   "id": "77445d2d",
   "metadata": {},
   "source": [
    "# Extract & Transform"
   ]
  },
  {
   "cell_type": "code",
   "execution_count": 6,
   "id": "64be4a92",
   "metadata": {},
   "outputs": [],
   "source": [
    "from PublicDataReader import Kbland\n",
    "import pandas as pd\n",
    "import numpy as np\n",
    "\n",
    "api = Kbland()\n",
    "\n",
    "def make_price_index():\n",
    "    \"\"\"\n",
    "    kB부동산 매매가격지수 모든 유형별 단일 테이블화 \n",
    "    \n",
    "    building_category\n",
    "        '01':'아파트',\n",
    "        '08':'연립',\n",
    "        '09':'단독',\n",
    "        '98':'주택종합'\n",
    "        \n",
    "    trade_category\n",
    "        '01':'매매',\n",
    "        '02':'전세'\n",
    "        \n",
    "    \"\"\"\n",
    "    building_category = ['01','08','09','98']\n",
    "    trade_category = ['01','02']\n",
    "\n",
    "    df_price_index = pd.DataFrame()\n",
    "    itercount = 0\n",
    "\n",
    "    for i in building_category:\n",
    "        for j in trade_category:\n",
    "            params = {\n",
    "                \"월간주간구분코드\": \"01\",\n",
    "                \"매물종별구분\": i,\n",
    "                \"매매전세코드\": j,\n",
    "                \"지역코드\": \"\",\n",
    "                \"기간\": \"\",\n",
    "            }\n",
    "            df = api.get_price_index(**params)\n",
    "\n",
    "            # api별로 컬럼명 변경을 위한 단어추출\n",
    "            first_word = df[df.columns[:3]].iloc[0].values[0]\n",
    "            second_word = df[df.columns[:3]].iloc[0].values[1]\n",
    "            third_word = df[df.columns[:3]].iloc[0].values[2]\n",
    "            last_word = df.columns[-1]\n",
    "            new_col_name = first_word + ' ' + second_word + ' ' + third_word + ' ' + last_word\n",
    "\n",
    "            # 지수컬럼명 변경\n",
    "            df = df.rename(columns = {\n",
    "                        last_word : new_col_name\n",
    "                    })\n",
    "\n",
    "            # 필요한 컬럼만 남기기\n",
    "            df = df[df.columns[3:]]\n",
    "\n",
    "            if itercount == 0:\n",
    "                df_price_index = pd.concat([df_price_index, df])\n",
    "            else:\n",
    "                df_price_index = pd.merge(df_price_index, df, on = ['지역코드','지역명','날짜'], how = 'left')\n",
    "\n",
    "            itercount += 1\n",
    "    return df_price_index"
   ]
  },
  {
   "cell_type": "code",
   "execution_count": 7,
   "id": "ab1512da",
   "metadata": {},
   "outputs": [],
   "source": [
    "df = make_price_index()"
   ]
  },
  {
   "cell_type": "markdown",
   "id": "8140b6a9",
   "metadata": {},
   "source": [
    "# Load to GBQ"
   ]
  },
  {
   "cell_type": "code",
   "execution_count": 1,
   "id": "d3a9bd89",
   "metadata": {},
   "outputs": [],
   "source": [
    "import sys\n",
    "import os\n",
    "from pathlib import Path\n",
    "path = 'C:\\\\Users\\\\ljs74\\\\Documents\\\\GitHub\\\\Personal-Data-Lake\\\\database'\n",
    "sys.path.append(path)\n",
    "sys.path.append(str(Path(os.getcwd())))"
   ]
  },
  {
   "cell_type": "code",
   "execution_count": 3,
   "id": "91510f37",
   "metadata": {},
   "outputs": [],
   "source": [
    "from gcp import BigqueryHandler"
   ]
  },
  {
   "cell_type": "code",
   "execution_count": 5,
   "id": "727918fa",
   "metadata": {},
   "outputs": [
    {
     "ename": "TypeError",
     "evalue": "read_table() missing 1 required positional argument: 'sql'",
     "output_type": "error",
     "traceback": [
      "\u001b[1;31m---------------------------------------------------------------------------\u001b[0m",
      "\u001b[1;31mTypeError\u001b[0m                                 Traceback (most recent call last)",
      "\u001b[1;32m~\\AppData\\Local\\Temp\\ipykernel_24600\\1888899285.py\u001b[0m in \u001b[0;36m<module>\u001b[1;34m\u001b[0m\n\u001b[0;32m      1\u001b[0m \u001b[0mBH\u001b[0m \u001b[1;33m=\u001b[0m \u001b[0mBigqueryHandler\u001b[0m\u001b[1;33m(\u001b[0m\u001b[1;33m)\u001b[0m\u001b[1;33m\u001b[0m\u001b[1;33m\u001b[0m\u001b[0m\n\u001b[1;32m----> 2\u001b[1;33m \u001b[0mBH\u001b[0m\u001b[1;33m.\u001b[0m\u001b[0mread_table\u001b[0m\u001b[1;33m(\u001b[0m\u001b[1;33m)\u001b[0m\u001b[1;33m\u001b[0m\u001b[1;33m\u001b[0m\u001b[0m\n\u001b[0m",
      "\u001b[1;31mTypeError\u001b[0m: read_table() missing 1 required positional argument: 'sql'"
     ]
    }
   ],
   "source": [
    "BH = BigqueryHandler()\n",
    "BH.read_table(df)"
   ]
  }
 ],
 "metadata": {
  "kernelspec": {
   "display_name": "Python 3 (ipykernel)",
   "language": "python",
   "name": "python3"
  },
  "language_info": {
   "codemirror_mode": {
    "name": "ipython",
    "version": 3
   },
   "file_extension": ".py",
   "mimetype": "text/x-python",
   "name": "python",
   "nbconvert_exporter": "python",
   "pygments_lexer": "ipython3",
   "version": "3.7.16"
  }
 },
 "nbformat": 4,
 "nbformat_minor": 5
}
