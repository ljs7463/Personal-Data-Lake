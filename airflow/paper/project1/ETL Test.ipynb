{
 "cells": [
  {
   "cell_type": "markdown",
   "id": "77445d2d",
   "metadata": {},
   "source": [
    "# Extract & Transform"
   ]
  },
  {
   "cell_type": "code",
   "execution_count": 13,
   "id": "64be4a92",
   "metadata": {},
   "outputs": [],
   "source": [
    "from PublicDataReader import Kbland\n",
    "import pandas as pd\n",
    "import numpy as np\n",
    "\n",
    "api = Kbland()\n",
    "\n",
    "def make_price_index():\n",
    "    \"\"\"\n",
    "    kB부동산 매매가격지수 모든 유형별 단일 테이블화 \n",
    "    \n",
    "    building_category\n",
    "        '01':'아파트',\n",
    "        '08':'연립',\n",
    "        '09':'단독',\n",
    "        '98':'주택종합'\n",
    "        \n",
    "    trade_category\n",
    "        '01':'매매',\n",
    "        '02':'전세'\n",
    "        \n",
    "    \"\"\"\n",
    "    building_category = ['01','08','09','98']\n",
    "    trade_category = ['01','02']\n",
    "\n",
    "    df_price_index = pd.DataFrame()\n",
    "    itercount = 0\n",
    "\n",
    "    for i in building_category:\n",
    "        for j in trade_category:\n",
    "            params = {\n",
    "                \"월간주간구분코드\": \"01\",\n",
    "                \"매물종별구분\": i,\n",
    "                \"매매전세코드\": j,\n",
    "                \"지역코드\": \"\",\n",
    "                \"기간\": \"\",\n",
    "            }\n",
    "            df = api.get_price_index(**params)\n",
    "\n",
    "            # api별로 컬럼명 변경을 위한 단어추출\n",
    "            first_word = df[df.columns[:3]].iloc[0].values[0]\n",
    "            second_word = df[df.columns[:3]].iloc[0].values[1]\n",
    "            third_word = df[df.columns[:3]].iloc[0].values[2]\n",
    "            last_word = df.columns[-1]\n",
    "            new_col_name = first_word + ' ' + second_word + ' ' + third_word + ' ' + last_word\n",
    "\n",
    "            # 지수컬럼명 변경\n",
    "            df = df.rename(columns = {\n",
    "                        last_word : new_col_name\n",
    "                    })\n",
    "\n",
    "            # 필요한 컬럼만 남기기\n",
    "            df = df[df.columns[3:]]\n",
    "\n",
    "            if itercount == 0:\n",
    "                df_price_index = pd.concat([df_price_index, df])\n",
    "            else:\n",
    "                df_price_index = pd.merge(df_price_index, df, on = ['지역코드','지역명','날짜'], how = 'left')\n",
    "\n",
    "            itercount += 1\n",
    "\n",
    "    df_price_index = df_price_index.rename(columns = {\n",
    "                                \"지역코드\":'regionCode',\n",
    "                                '지역명':'regionName',\n",
    "                                '날짜':'date',\n",
    "                                '월간 아파트 매매 가격지수':\"monthlyAptTradeIndex\",\n",
    "                                '월간 아파트 전세 가격지수':'monthlyAptJeonseIndex',\n",
    "                                '월간 연립 매매 가격지수':'monthlyYeonripTradingIndex',\n",
    "                                '월간 연립 전세 가격지수':'monthlyYeonripJeonseIndex',\n",
    "                                '월간 단독 매매 가격지수':'monthlyDandokTradingIndex',\n",
    "                                '월간 단독 전세 가격지수':'monthlyDandokJeonseIndex',\n",
    "                                '월간 주택종합 매매 가격지수':'monthlyTotalTradingIndex',\n",
    "                                '월간 주택종합 전세 가격지수':'monthlyTotalJeonseIndex'\n",
    "                            })\n",
    "    return df_price_index"
   ]
  },
  {
   "cell_type": "code",
   "execution_count": 14,
   "id": "ab1512da",
   "metadata": {},
   "outputs": [],
   "source": [
    "df = make_price_index()"
   ]
  },
  {
   "cell_type": "markdown",
   "id": "8140b6a9",
   "metadata": {},
   "source": [
    "# Load to GBQ"
   ]
  },
  {
   "cell_type": "code",
   "execution_count": 15,
   "id": "d3a9bd89",
   "metadata": {},
   "outputs": [],
   "source": [
    "import sys\n",
    "import os\n",
    "from pathlib import Path\n",
    "path = 'C:\\\\Users\\\\ljs74\\\\Documents\\\\GitHub\\\\Personal-Data-Lake\\\\database'\n",
    "sys.path.append(path)\n",
    "sys.path.append(str(Path(os.getcwd())))\n",
    "from gcp import BigqueryHandler, bigquery_client\n",
    "from google.cloud import bigquery, storage\n",
    "BH = BigqueryHandler()\n",
    "bq = bigquery_client"
   ]
  },
  {
   "cell_type": "code",
   "execution_count": 25,
   "id": "a5aa1c4e",
   "metadata": {},
   "outputs": [
    {
     "data": {
      "text/plain": [
       "LoadJob<project=credible-runner-405908, location=US, id=cd08e009-197c-4af6-9d95-e43242149d45>"
      ]
     },
     "execution_count": 25,
     "metadata": {},
     "output_type": "execute_result"
    }
   ],
   "source": [
    "project = bq.project\n",
    "dataset_ref = bigquery.DatasetReference(project, \"kb_real_estate\")\n",
    "new_table_id =\"etl_kb_api_price_index\"\n",
    "\n",
    "table_ref = dataset_ref.table(new_table_id)\n",
    "schema = [bigquery.SchemaField('regionCode',\"STRING\"),\n",
    "          bigquery.SchemaField('regionName',\"STRING\"),\n",
    "          bigquery.SchemaField('date',\"DATE\"),\n",
    "          bigquery.SchemaField('monthlyAptTradeIndex',\"FLOAT\"),\n",
    "          bigquery.SchemaField('monthlyAptJeonseIndex',\"FLOAT\"),\n",
    "          bigquery.SchemaField('monthlyYeonripTradingIndex',\"FLOAT\"),\n",
    "          bigquery.SchemaField('monthlyYeonripJeonseIndex',\"FLOAT\"),\n",
    "          bigquery.SchemaField('monthlyDandokTradingIndex',\"FLOAT\"),\n",
    "          bigquery.SchemaField('monthlyDandokJeonseIndex',\"FLOAT\"),\n",
    "          bigquery.SchemaField('monthlyTotalTradingIndex',\"FLOAT\"),\n",
    "          bigquery.SchemaField('monthlyTotalJeonseIndex',\"FLOAT\"),\n",
    "          \n",
    "         ]\n",
    "table = bigquery.Table(table_ref, schema = schema)\n",
    "\n",
    "# 테이블 최초 생성\n",
    "table = bq.create_table(table)\n",
    "\n",
    "job = bq.load_table_from_dataframe(df, table)\n",
    "job"
   ]
  }
 ],
 "metadata": {
  "kernelspec": {
   "display_name": "Python 3 (ipykernel)",
   "language": "python",
   "name": "python3"
  },
  "language_info": {
   "codemirror_mode": {
    "name": "ipython",
    "version": 3
   },
   "file_extension": ".py",
   "mimetype": "text/x-python",
   "name": "python",
   "nbconvert_exporter": "python",
   "pygments_lexer": "ipython3",
   "version": "3.7.16"
  }
 },
 "nbformat": 4,
 "nbformat_minor": 5
}
